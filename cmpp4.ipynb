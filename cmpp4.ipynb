{
  "cells": [
    {
      "cell_type": "markdown",
      "metadata": {
        "id": "view-in-github",
        "colab_type": "text"
      },
      "source": [
        "<a href=\"https://colab.research.google.com/github/dsuwala/cmpp/blob/main/cmpp4.ipynb\" target=\"_parent\"><img src=\"https://colab.research.google.com/assets/colab-badge.svg\" alt=\"Open In Colab\"/></a>"
      ]
    },
    {
      "cell_type": "code",
      "execution_count": null,
      "metadata": {
        "id": "WUGP4YRGh7Uf"
      },
      "outputs": [],
      "source": [
        "import numpy as np\n",
        "import matplotlib.pyplot as plt\n",
        "from matplotlib.animation import FuncAnimation\n",
        "from matplotlib.animation import FFMpegWriter\n",
        "from matplotlib.animation import PillowWriter \n",
        "import os"
      ]
    },
    {
      "cell_type": "code",
      "execution_count": null,
      "metadata": {
        "id": "u3q2UEfN3Q59"
      },
      "outputs": [],
      "source": [
        "#spell to have animations working\n",
        "from matplotlib import rc\n",
        "rc('animation', html='jshtml', embed_limit='4096')"
      ]
    },
    {
      "cell_type": "code",
      "source": [
        "from google.colab import drive\n",
        "drive.mount('/gdrive')"
      ],
      "metadata": {
        "id": "fdekNGD-19Bf",
        "colab": {
          "base_uri": "https://localhost:8080/"
        },
        "outputId": "0746a8f5-fcdd-47c0-ce05-544be9fd677c"
      },
      "execution_count": null,
      "outputs": [
        {
          "output_type": "stream",
          "name": "stdout",
          "text": [
            "Mounted at /gdrive\n"
          ]
        }
      ]
    },
    {
      "cell_type": "code",
      "source": [
        "os.chdir(\"../gdrive/MyDrive/MISMaP/Lato22-23\")"
      ],
      "metadata": {
        "id": "Py3bF6PydzNU"
      },
      "execution_count": null,
      "outputs": []
    },
    {
      "cell_type": "code",
      "source": [
        "!apt-get install ffmpeg"
      ],
      "metadata": {
        "id": "ZdMkMn7Qe__M"
      },
      "execution_count": null,
      "outputs": []
    },
    {
      "cell_type": "markdown",
      "metadata": {
        "id": "JXDeQMcXj8dQ"
      },
      "source": [
        "# 1D gray scott"
      ]
    },
    {
      "cell_type": "code",
      "execution_count": null,
      "metadata": {
        "id": "Rzo7g-ByiGxV"
      },
      "outputs": [],
      "source": [
        "def get_second_derivative(f : np.ndarray, dr) -> np.ndarray:\n",
        "\n",
        "    diff_f = ( np.roll(f, 1) - 2 * f + np.roll(f, -1) ) / (dr**2)\n",
        "\n",
        "    return diff_f"
      ]
    },
    {
      "cell_type": "code",
      "execution_count": null,
      "metadata": {
        "id": "acrVgzMElMfL"
      },
      "outputs": [],
      "source": [
        "# evolve one step\n",
        "def evolve(u : np.ndarray, v : np.ndarray, par : dict):\n",
        "\n",
        "    u += par[\"Du\"] * get_second_derivative(u, par[\"dr\"]) - u * v * v + par[\"F\"] * (1 - u) \n",
        "    v += par[\"Dv\"] * get_second_derivative(v, par[\"dr\"]) + u * v * v - (par[\"F\"] + par[\"k\"]) * v\n",
        "\n",
        "    return u, v"
      ]
    },
    {
      "cell_type": "code",
      "execution_count": null,
      "metadata": {
        "id": "Z0mPCD27m5zS"
      },
      "outputs": [],
      "source": [
        "par = {\n",
        "    \"Du\" : 2e-5, \"Dv\" : 1e-5, \"dr\" : 0.02,\n",
        "    \"F\" : 0.037, \"k\" : 0.06, \"steps\" : 5000, \"N\" : 100\n",
        "}"
      ]
    },
    {
      "cell_type": "code",
      "execution_count": null,
      "metadata": {
        "id": "xpg3Pe9BnT4n"
      },
      "outputs": [],
      "source": [
        "u_init = np.ones(par[\"N\"])\n",
        "v_init = np.zeros(par[\"N\"])\n",
        "x = np.arange(par[\"N\"])\n",
        "for i in range(int(par[\"N\"] / 4), int(3 * par[\"N\"] / 4)):\n",
        "    u_init[i] = np.random.random() * 0.2 + 0.4\n",
        "    v_init[i] = np.random.random() * 0.2 + 0.2"
      ]
    },
    {
      "cell_type": "code",
      "execution_count": null,
      "metadata": {
        "id": "_NzSIIeXnMFr"
      },
      "outputs": [],
      "source": [
        "u_old = u_init\n",
        "v_old = v_init\n",
        "\n",
        "u = []\n",
        "v = []\n",
        "\n",
        "for step in range(par[\"steps\"]):\n",
        "    \n",
        "    u_new, v_new = evolve(u_old, v_old, par)\n",
        "\n",
        "    if step % 10 == 0:\n",
        "        u.append(np.copy(u_new))\n",
        "        v.append(np.copy(v_new))\n",
        "\n",
        "    u_old = u_new\n",
        "    v_old = v_new"
      ]
    },
    {
      "cell_type": "code",
      "execution_count": null,
      "metadata": {
        "id": "f2KbLrZSold1"
      },
      "outputs": [],
      "source": [
        "fig, ax = plt.subplots(1, 1, figsize=(8, 6))\n",
        "\n",
        "def animate(i):\n",
        "\n",
        "    ax.clear()\n",
        "\n",
        "    ax.set_ylim(0, 1)\n",
        "    ax.set_xlim(0, 100)\n",
        "    ax.plot(x, u[i])\n",
        "    ax.plot(x, v[i])\n",
        "    ax.set_ylabel(\"concentration [1]\")\n",
        "    ax.set_xlabel(\"distance\")\n",
        "\n",
        "    ax.set_title(f\"step: {10 * i}, F = {par['F']}, k = {par['k']}\")\n",
        "    \n",
        "    # ax[1].contourf(x, range(par[\"steps\"]), np.random.random((2, 2)))#np.concatenate( range(par[\"steps\"]), v_new ) )\n",
        "    \n",
        "    # plt.show()\n",
        "\n",
        "anim = FuncAnimation(fig, animate, interval=100, frames=int(par[\"steps\"] / 10))\n",
        "plt.close()\n",
        "\n",
        "anim.save(f\"./1Dgray_scott_F{par['F']}_k{par['k']}.gif\", writer=PillowWriter(fps=60))"
      ]
    },
    {
      "cell_type": "code",
      "execution_count": null,
      "metadata": {
        "colab": {
          "base_uri": "https://localhost:8080/",
          "height": 404
        },
        "id": "_0jYRWDmox_E",
        "outputId": "ed14e1e9-5ab2-4e1e-ec33-dd75fb83a2a7"
      },
      "outputs": [
        {
          "output_type": "display_data",
          "data": {
            "text/plain": [
              "<Figure size 576x432 with 1 Axes>"
            ],
            "image/png": "[encoded data removed]"
          },
          "metadata": {
            "needs_background": "light"
          }
        }
      ],
      "source": [
        "fig, ax = plt.subplots(1, 1, figsize=(8, 6))\n",
        "V = np.vstack(v)\n",
        "\n",
        "ax.contourf(x, range(0, par[\"steps\"], 10), V)\n",
        "ax.set_ylabel(\"time\")\n",
        "ax.set_xlabel(\"distance (dimensionless)\")\n",
        "ax.set_title(f\"1D gray scott spacediagram, F = {par['F']}, k = {par['k']}\")\n",
        "\n",
        "fig.savefig(f\"./1D_spacediagram_F{par['F']}_k{par['k']}.png\")\n"
      ]
    },
    {
      "cell_type": "markdown",
      "metadata": {
        "id": "stf7b0j91F9A"
      },
      "source": [
        "# 2D Gray scot"
      ]
    },
    {
      "cell_type": "code",
      "execution_count": null,
      "metadata": {
        "id": "-mwUQXx_z5NP"
      },
      "outputs": [],
      "source": [
        "def get_laplacian(f: np.ndarray, dr) -> np.ndarray:\n",
        "\n",
        "    lapf_x = ( np.roll(f, 1, axis=1) - 2 * f + np.roll(f, -1, axis=1) ) / (dr**2)\n",
        "    lapf_y = ( np.roll(f, 1, axis=0) - 2 * f + np.roll(f, -1, axis=0) ) / (dr**2)\n",
        "\n",
        "    return lapf_x + lapf_y"
      ]
    },
    {
      "cell_type": "code",
      "execution_count": null,
      "metadata": {
        "id": "qiHklCHi1vfs"
      },
      "outputs": [],
      "source": [
        "# evolve one step\n",
        "def evolve2D(u : np.ndarray, v : np.ndarray, par : dict):\n",
        "\n",
        "    u += par[\"Du\"] * get_laplacian(u, par[\"dr\"]) - u * v * v + par[\"F\"] * (1 - u) \n",
        "    v += par[\"Dv\"] * get_laplacian(v, par[\"dr\"]) + u * v * v - (par[\"F\"] + par[\"k\"]) * v\n",
        "\n",
        "    return u, v"
      ]
    },
    {
      "cell_type": "code",
      "execution_count": null,
      "metadata": {
        "id": "9HJbICPK1zGa"
      },
      "outputs": [],
      "source": [
        "par = {\n",
        "    \"Du\" : 2e-5, \"Dv\" : 1e-5, \"dr\" : 0.02,\n",
        "    \"F\" : 0.037, \"k\" : 0.06, \"steps\" : 10000, \"N\" : 100\n",
        "}"
      ]
    },
    {
      "cell_type": "code",
      "execution_count": null,
      "metadata": {
        "id": "IPUIiW7s13b6"
      },
      "outputs": [],
      "source": [
        "u_init = np.ones((par[\"N\"], par[\"N\"]))\n",
        "v_init = np.zeros((par[\"N\"], par[\"N\"]))\n",
        "\n",
        "x = np.arange(par[\"N\"])\n",
        "for i in range(int(par[\"N\"] / 4), int(3 * par[\"N\"] / 4)):\n",
        "    for j in range(int(par[\"N\"] / 4), int(3 * par[\"N\"] / 4)):\n",
        "        u_init[i, j] = np.random.random() * 0.2 + 0.4\n",
        "        v_init[i, j] = np.random.random() * 0.2 + 0.2"
      ]
    },
    {
      "cell_type": "code",
      "execution_count": null,
      "metadata": {
        "id": "pOi7aVrm29ry"
      },
      "outputs": [],
      "source": [
        "u_old = u_init\n",
        "v_old = v_init\n",
        "\n",
        "u = []\n",
        "v = []\n",
        "\n",
        "for step in range(par[\"steps\"]):\n",
        "    \n",
        "    u_new, v_new = evolve2D(u_old, v_old, par)\n",
        "\n",
        "    if step % 50 == 0:\n",
        "        u.append(np.copy(u_new))\n",
        "        v.append(np.copy(v_new))\n",
        "\n",
        "    u_old = u_new\n",
        "    v_old = v_new"
      ]
    },
    {
      "cell_type": "code",
      "execution_count": null,
      "metadata": {
        "id": "HzOYN3cb3FGs"
      },
      "outputs": [],
      "source": [
        "fig, ax = plt.subplots(1, 1, figsize=(8, 6))\n",
        "\n",
        "def animate(i):\n",
        "\n",
        "    ax.clear()\n",
        "\n",
        "    ax.set_ylim(0, 100)\n",
        "    ax.set_xlim(0, 100)\n",
        "    cax = ax.imshow(u[i], interpolation=\"nearest\")\n",
        "    cax.set_clim(vmin=0, vmax=1)\n",
        "    # ax.plot(x, v[i])\n",
        "    ax.set_ylabel(\"y\")\n",
        "    ax.set_xlabel(\"x\")\n",
        "\n",
        "    ax.set_title(f\"step: {10 * i}, F = {par['F']}, k = {par['k']}\")\n",
        "    \n",
        "    # ax[1].contourf(x, range(par[\"steps\"]), np.random.random((2, 2)))#np.concatenate( range(par[\"steps\"]), v_new ) )\n",
        "    \n",
        "    # plt.show()\n",
        "\n",
        "anim = FuncAnimation(fig, animate, interval=100, frames=len(u))\n",
        "plt.close()\n",
        "\n",
        "anim.save(f\"./2D_gs_F{par['F']}_k{par['k']}.gif\", writer=PillowWriter(fps=60))"
      ]
    },
    {
      "cell_type": "markdown",
      "metadata": {
        "id": "u79hUiK7kU2Y"
      },
      "source": [
        "# 2D Gray Scott with systematic F change"
      ]
    },
    {
      "cell_type": "code",
      "execution_count": null,
      "metadata": {
        "id": "W6frDyS9kiiu"
      },
      "outputs": [],
      "source": [
        "def get_laplacian(f: np.ndarray, dr) -> np.ndarray:\n",
        "\n",
        "    lapf_x = ( np.roll(f, 1, axis=1) - 2 * f + np.roll(f, -1, axis=1) ) / (dr**2)\n",
        "    lapf_y = ( np.roll(f, 1, axis=0) - 2 * f + np.roll(f, -1, axis=0) ) / (dr**2)\n",
        "\n",
        "    return lapf_x + lapf_y"
      ]
    },
    {
      "cell_type": "code",
      "execution_count": null,
      "metadata": {
        "id": "mRHwuWkikloH"
      },
      "outputs": [],
      "source": [
        "# evolve one step\n",
        "def evolve2D(u : np.ndarray, v : np.ndarray, par : dict):\n",
        "\n",
        "    u += par[\"Du\"] * get_laplacian(u, par[\"dr\"]) - u * v * v + par[\"F\"] * (1 - u) \n",
        "    v += par[\"Dv\"] * get_laplacian(v, par[\"dr\"]) + u * v * v - (par[\"F\"] + par[\"k\"]) * v\n",
        "\n",
        "    return u, v"
      ]
    },
    {
      "cell_type": "code",
      "execution_count": null,
      "metadata": {
        "id": "IMnCNt2Vkor8"
      },
      "outputs": [],
      "source": [
        "par = {\n",
        "    \"Du\" : 2e-5, \"Dv\" : 1e-5, \"dr\" : 0.02,\n",
        "    \"F\" : 0.022, \"k\" : 0.0610, \"steps\" : 10000, \"N\" : 100\n",
        "}\n",
        "par1 = {\n",
        "    \"Du\" : 2e-5, \"Dv\" : 1e-5, \"dr\" : 0.02,\n",
        "    \"F\" : 0.038, \"k\" : 0.0610, \"steps\" : 10000, \"N\" : 100\n",
        "}\n",
        "par2 = {\n",
        "    \"Du\" : 2e-5, \"Dv\" : 1e-5, \"dr\" : 0.02,\n",
        "    \"F\" : 0.058, \"k\" : 0.0610, \"steps\" : 10000, \"N\" : 100\n",
        "}\n",
        "par3 = {\n",
        "    \"Du\" : 2e-5, \"Dv\" : 1e-5, \"dr\" : 0.02,\n",
        "    \"F\" : 0.074, \"k\" : 0.0610, \"steps\" : 10000, \"N\" : 100\n",
        "}\n",
        "\n",
        "experiments = [par, par1, par2, par3]\n",
        "# experiments = [par, par1]"
      ]
    },
    {
      "cell_type": "code",
      "execution_count": null,
      "metadata": {
        "id": "8mHcTylRkqzO"
      },
      "outputs": [],
      "source": [
        "u_init = np.ones((par[\"N\"], par[\"N\"]))\n",
        "v_init = np.zeros((par[\"N\"], par[\"N\"]))\n",
        "\n",
        "x = np.arange(par[\"N\"])\n",
        "for i in range(int(par[\"N\"] / 4), int(3 * par[\"N\"] / 4)):\n",
        "    for j in range(int(par[\"N\"] / 4), int(3 * par[\"N\"] / 4)):\n",
        "        u_init[i, j] = np.random.random() * 0.2 + 0.4\n",
        "        v_init[i, j] = np.random.random() * 0.2 + 0.2"
      ]
    },
    {
      "cell_type": "code",
      "execution_count": null,
      "metadata": {
        "id": "GZW0dXRMku0D"
      },
      "outputs": [],
      "source": [
        "u_old = u_init\n",
        "v_old = v_init\n",
        "\n",
        "u = []\n",
        "v = []\n",
        "fk_values = []\n",
        "\n",
        "for exp in experiments:\n",
        "    \n",
        "    for step in range(exp[\"steps\"]):\n",
        "        \n",
        "        u_new, v_new = evolve2D(u_old, v_old, exp)\n",
        "    \n",
        "        if step % 100 == 0:\n",
        "            u.append(np.copy(u_new))\n",
        "            v.append(np.copy(v_new))\n",
        "            fk_values.append((exp[\"F\"], exp[\"k\"]))\n",
        "    \n",
        "        u_old = u_new\n",
        "        v_old = v_new"
      ]
    },
    {
      "cell_type": "code",
      "execution_count": null,
      "metadata": {
        "id": "o2pmuSNnkxXO"
      },
      "outputs": [],
      "source": [
        "fig, ax = plt.subplots(1, 1, figsize=(8, 6))\n",
        "\n",
        "def animate(i):\n",
        "\n",
        "    ax.clear()\n",
        "\n",
        "    ax.set_ylim(0, 100)\n",
        "    ax.set_xlim(0, 100)\n",
        "    cax = ax.imshow(u[i], interpolation=\"nearest\")\n",
        "    cax.set_clim(vmin=0, vmax=1)\n",
        "    # ax.plot(x, v[i])\n",
        "    ax.set_ylabel(\"y\")\n",
        "    ax.set_xlabel(\"x\")\n",
        "\n",
        "    ax.set_title(f\"step: {100 * i}, F = {fk_values[i][0]}, k = {fk_values[i][1]}\")\n",
        "    \n",
        "    # ax[1].contourf(x, range(par[\"steps\"]), np.random.random((2, 2)))#np.concatenate( range(par[\"steps\"]), v_new ) )\n",
        "    \n",
        "    # plt.show()\n",
        "\n",
        "anim = FuncAnimation(fig, animate, interval=500, frames=len(u))\n",
        "plt.close()\n",
        "\n",
        "anim.save(\"./Fchange.gif\", writer=PillowWriter(fps=60))"
      ]
    },
    {
      "cell_type": "code",
      "execution_count": null,
      "metadata": {
        "id": "NCm--SvJ3Zm8"
      },
      "outputs": [],
      "source": []
    }
  ],
  "metadata": {
    "colab": {
      "provenance": [],
      "collapsed_sections": [
        "JXDeQMcXj8dQ"
      ],
      "authorship_tag": "ABX9TyMWHjrBHPN46DX7WMOMnVBw",
      "include_colab_link": true
    },
    "kernelspec": {
      "display_name": "Python 3",
      "name": "python3"
    },
    "language_info": {
      "name": "python"
    }
  },
  "nbformat": 4,
  "nbformat_minor": 0
}