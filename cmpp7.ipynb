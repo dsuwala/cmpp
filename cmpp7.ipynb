{
  "nbformat": 4,
  "nbformat_minor": 0,
  "metadata": {
    "colab": {
      "provenance": [],
      "collapsed_sections": [
        "hSGDOrAzlEoK",
        "RRFWnx5icBws"
      ],
      "authorship_tag": "ABX9TyOxuzn74NinIEWIGBLSIWQV",
      "include_colab_link": true
    },
    "kernelspec": {
      "name": "python3",
      "display_name": "Python 3"
    },
    "language_info": {
      "name": "python"
    }
  },
  "cells": [
    {
      "cell_type": "markdown",
      "metadata": {
        "id": "view-in-github",
        "colab_type": "text"
      },
      "source": [
        "<a href=\"https://colab.research.google.com/github/dsuwala/cmpp/blob/main/cmpp7.ipynb\" target=\"_parent\"><img src=\"https://colab.research.google.com/assets/colab-badge.svg\" alt=\"Open In Colab\"/></a>"
      ]
    },
    {
      "cell_type": "code",
      "execution_count": null,
      "metadata": {
        "id": "Tetzq2cFaSY_"
      },
      "outputs": [],
      "source": [
        "import numpy as np\n",
        "import matplotlib.pyplot as plt\n",
        "from matplotlib.animation import FuncAnimation, PillowWriter"
      ]
    },
    {
      "cell_type": "code",
      "execution_count": null,
      "metadata": {
        "id": "ikkrFGDZkJNr"
      },
      "outputs": [],
      "source": [
        "#spell to have animations working\n",
        "from matplotlib import rc\n",
        "rc('animation', html='jshtml', embed_limit='4096')"
      ]
    },
    {
      "cell_type": "markdown",
      "source": [
        "# Main functions"
      ],
      "metadata": {
        "id": "5xdUEugizpvA"
      }
    },
    {
      "cell_type": "code",
      "source": [
        "def get_neighbors(state: np.ndarray) -> list:\n",
        "\n",
        "    # 0 1 2\n",
        "    # 3 4 5\n",
        "    # 6 7 8\n",
        "    # rolls over neighbors\n",
        "\n",
        "    nb0 = np.roll(np.roll(state, 1, axis=0), 1, axis=1)\n",
        "    nb1 = np.roll(state, 1, axis=0)\n",
        "    nb2 = np.roll(np.roll(state, 1, axis=0), -1, axis=1)\n",
        "\n",
        "    # same row\n",
        "    nb3 = np.roll(state, 1, axis=1)\n",
        "    nb4 = state\n",
        "    nb5 = np.roll(state, -1, axis=1)\n",
        "\n",
        "    # bottom row\n",
        "    nb6 = np.roll(np.roll(state, -1, axis=0), 1, axis=1)\n",
        "    nb7 = np.roll(state, -1, axis=0)\n",
        "    nb8 = np.roll(np.roll(state, -1, axis=0), -1, axis=1)\n",
        "\n",
        "    return [nb0, nb1, nb2, nb3, nb4, nb5, nb6, nb7, nb8]"
      ],
      "metadata": {
        "id": "gBYPuaFJHDzE"
      },
      "execution_count": null,
      "outputs": []
    },
    {
      "cell_type": "code",
      "source": [
        "def calculate_score(state: np.ndarray, game_matrix: dict) -> np.ndarray:\n",
        "\n",
        "    score = np.zeros(shape=state.shape)\n",
        "\n",
        "\n",
        "    for i in range(state.shape[0]):\n",
        "        for j in range(state.shape[1]):\n",
        "\n",
        "            for nb in get_neighbors(state):\n",
        "\n",
        "                if state[i, j] == 1 and nb[i, j] == 0:\n",
        "                    score[i, j] += game_matrix[\"dc\"]\n",
        "                if state[i, j] == 1 and nb[i, j] == 1:\n",
        "                    score[i, j] += game_matrix[\"dd\"]\n",
        "                if state[i, j] == 0 and nb[i, j] == 1:\n",
        "                    score[i, j] += game_matrix[\"cd\"]\n",
        "                if state[i, j] == 0 and nb[i, j] == 0:\n",
        "                    score[i, j] += game_matrix[\"cc\"]\n",
        "        \n",
        "    return score\n"
      ],
      "metadata": {
        "id": "d7KMsPxaCsOn"
      },
      "execution_count": null,
      "outputs": []
    },
    {
      "cell_type": "code",
      "source": [
        "# faster version of calculate score()\n",
        "def calculate_score2(state: np.ndarray, game_matrix: np.ndarray) -> np.ndarray:\n",
        "\n",
        "    score = np.zeros(shape=state.shape)\n",
        "\n",
        "    for nb in get_neighbors(state):\n",
        "\n",
        "        score += game_matrix[(2 * state + nb).astype(int)]\n",
        "    \n",
        "    return score"
      ],
      "metadata": {
        "id": "ghkXyZbG65qY"
      },
      "execution_count": null,
      "outputs": []
    },
    {
      "cell_type": "code",
      "source": [
        "def evolve_strategies(state, scores):\n",
        "    \n",
        "    next_states = np.zeros(shape=state.shape)\n",
        "    score_nbrs = get_neighbors(scores)\n",
        "    state_nbrs = get_neighbors(state)\n",
        "\n",
        "    for i in range(state.shape[0]):\n",
        "        for j in range(state.shape[1]):\n",
        "\n",
        "            # print([nb for nb in enumerate(get_neighbors(scores))])\n",
        "            best_neighbor = max([nb for nb in enumerate(score_nbrs)], key=lambda a : a[1][i,j])\n",
        "            next_states[i, j] = state_nbrs[best_neighbor[0]][i,j]\n",
        "\n",
        "\n",
        "            # print(f\"({i},{j}) {best_neighbor}\")\n",
        "    return next_states"
      ],
      "metadata": {
        "id": "XiNEhwtxHhTf"
      },
      "execution_count": null,
      "outputs": []
    },
    {
      "cell_type": "code",
      "source": [
        "def color_code(current_state, previous_state):\n",
        "\n",
        "    nbr = np.zeros(shape=current_state.shape)\n",
        "\n",
        "    nbr = 2**1 * current_state + 2**0 * previous_state\n",
        "\n",
        "    return nbr"
      ],
      "metadata": {
        "id": "Wthahdz9kc5W"
      },
      "execution_count": null,
      "outputs": []
    },
    {
      "cell_type": "code",
      "source": [
        "# for debugging\n",
        "N = 5\n",
        "state = np.zeros(shape=(N, N))\n",
        "score = np.zeros(shape=(N, N))\n",
        "\n",
        "state[N//2, N//2] = 1\n",
        "\n",
        "game_matrix = {\n",
        "    \"cc\" : 1.0,\n",
        "    \"dc\" : 2.08,\n",
        "    \"cd\" : 0.0, \n",
        "    \"dd\" : 0.0\n",
        "}\n",
        "\n",
        "\n",
        "# print(state)\n",
        "# print(calculate_score(state, game_matrix))\n",
        "# print(evolve_strategies(state, calculate_score(state, game_matrix)))\n",
        "\n",
        "states = [state]\n",
        "scores = np.zeros(shape=state.shape)\n",
        "scores += calculate_score(states[-1], game_matrix)\n",
        "\n",
        "for n in range(5):\n",
        "    # print(n)\n",
        "\n",
        "    print(f\"{n} state {states[-1]}\")\n",
        "    print(f\"{n} score {scores}\")\n",
        "    next_state = evolve_strategies(states[-1], scores)\n",
        "    # scores = calculate_score(next_state, game_matrix)\n",
        "    scores = calculate_score2(next_state, np.array([1, 0, 1.9, 0]))\n",
        "    states.append(next_state.copy())\n"
      ],
      "metadata": {
        "id": "Uy_aLsqRpMlI"
      },
      "execution_count": null,
      "outputs": []
    },
    {
      "cell_type": "markdown",
      "source": [
        "## Task 1"
      ],
      "metadata": {
        "id": "OPHN73Jp8RQ9"
      }
    },
    {
      "cell_type": "code",
      "source": [
        "N = 201\n",
        "state = np.zeros(shape=(N, N))\n",
        "score = np.zeros(shape=(N, N))\n",
        "\n",
        "state[N//2, N//2] = 1"
      ],
      "metadata": {
        "id": "9WCc8VIQztsf"
      },
      "execution_count": null,
      "outputs": []
    },
    {
      "cell_type": "code",
      "source": [
        "states = [state]\n",
        "scores = np.zeros(shape=state.shape)\n",
        "scores += calculate_score2(states[-1], np.array([1, 0, 1.9, 0]))\n",
        "b = 1.9\n",
        "\n",
        "for n in range(1000):\n",
        "    if n % 100:\n",
        "        print(n)\n",
        "    next_state = evolve_strategies(states[-1], scores)\n",
        "    scores = calculate_score2(next_state, np.array([1, 0, b, 0]))\n",
        "    states.append(next_state.copy())"
      ],
      "metadata": {
        "id": "6PI10_eMGAYi"
      },
      "execution_count": null,
      "outputs": []
    },
    {
      "cell_type": "code",
      "source": [
        "fig, ax = plt.subplots(1, 1, figsize=(10, 8))\n",
        "\n",
        "def animate(i):\n",
        "    ax.clear()\n",
        "    ax.imshow(color_code(states[i+1], states[i]))\n",
        "\n",
        "\n",
        "anim = FuncAnimation(fig, animate, frames=999, interval=100)\n",
        "plt.close()\n",
        "anim"
      ],
      "metadata": {
        "id": "Z6cas3BfCHvX"
      },
      "execution_count": null,
      "outputs": []
    },
    {
      "cell_type": "markdown",
      "source": [
        "## Task 2"
      ],
      "metadata": {
        "id": "l9O7yt90_bav"
      }
    },
    {
      "cell_type": "code",
      "source": [
        "from google.colab import drive\n",
        "drive.mount('/gdrive')"
      ],
      "metadata": {
        "colab": {
          "base_uri": "https://localhost:8080/"
        },
        "id": "gVh3kI7yip9l",
        "outputId": "50aa6e46-3aaf-46cb-d6c1-7b15902e4945"
      },
      "execution_count": null,
      "outputs": [
        {
          "output_type": "stream",
          "name": "stdout",
          "text": [
            "Drive already mounted at /gdrive; to attempt to forcibly remount, call drive.mount(\"/gdrive\", force_remount=True).\n"
          ]
        }
      ]
    },
    {
      "cell_type": "code",
      "source": [
        "import os\n",
        "os.chdir(\"../gdrive/MyDrive/MISMaP/Lato22-23/cmpp7\")"
      ],
      "metadata": {
        "id": "gzOjSjcMjMGC"
      },
      "execution_count": null,
      "outputs": []
    },
    {
      "cell_type": "code",
      "source": [
        "N = 201\n",
        "b_experiments = [1.1, 1.3, 1.4, 1.45, 1.5, 1.6, 1.7, 1.75, 1.78, 1.8, 1.82, 1.85, 1.9, 1.94, 1.96, 1.98, 2., 2.3]\n",
        "f = []"
      ],
      "metadata": {
        "id": "DG73SSIzlZFf"
      },
      "execution_count": null,
      "outputs": []
    },
    {
      "cell_type": "code",
      "source": [
        "\n",
        "for b in b_experiments:\n",
        "\n",
        "    print(f\"calculating for b = {b}...\")\n",
        "    state = np.zeros(shape=(N, N), dtype=int)\n",
        "    score = np.zeros(shape=(N, N))\n",
        "    \n",
        "    # random indicies to change to defectors\n",
        "    d_indices = [(np.random.randint(N), np.random.randint(N)) for x in range(N**2//2)]\n",
        "    \n",
        "    # create defectors\n",
        "    for idx in d_indices:\n",
        "        state[idx] = 1\n",
        "    \n",
        "    \n",
        "    states = [state]\n",
        "    scores = np.zeros(shape=state.shape)\n",
        "    scores += calculate_score2(states[-1], np.array([1, 0, b, 0]))\n",
        "    \n",
        "    for n in range(200):\n",
        "        next_state = evolve_strategies(states[-1], scores)\n",
        "        scores = calculate_score2(next_state, np.array([1, 0, b, 0]))\n",
        "        states.append(next_state.copy())\n",
        "    \n",
        "    f.append(np.count_nonzero(states[-1] == 1))\n",
        "\n",
        "    fig, ax = plt.subplots(1, 1, figsize=(10, 8))\n",
        "    \n",
        "    def animate(i):\n",
        "        ax.clear()\n",
        "        ax.imshow(color_code(states[i+1], states[i]))\n",
        "        ax.set_title(f\"b = {b}, step = {i}\")\n",
        "    \n",
        "    anim = FuncAnimation(fig, animate, frames=199, interval=100)\n",
        "    plt.close()\n",
        "    anim.save(f\"task2_b{b}.gif\", writer=PillowWriter(fps=30), dpi=150)"
      ],
      "metadata": {
        "colab": {
          "base_uri": "https://localhost:8080/"
        },
        "id": "WLUwA7oub4yB",
        "outputId": "d4fb0a38-70aa-4c5b-e795-f853fd5337e0"
      },
      "execution_count": null,
      "outputs": [
        {
          "output_type": "stream",
          "name": "stdout",
          "text": [
            "calculating for b = 1.1...\n",
            "calculating for b = 1.3...\n",
            "calculating for b = 1.4...\n",
            "calculating for b = 1.45...\n",
            "calculating for b = 1.5...\n",
            "calculating for b = 1.6...\n",
            "calculating for b = 1.7...\n",
            "calculating for b = 1.75...\n",
            "calculating for b = 1.78...\n",
            "calculating for b = 1.8...\n",
            "calculating for b = 1.82...\n",
            "calculating for b = 1.85...\n",
            "calculating for b = 1.9...\n",
            "calculating for b = 1.94...\n",
            "calculating for b = 1.96...\n",
            "calculating for b = 1.98...\n",
            "calculating for b = 2.0...\n",
            "calculating for b = 2.3...\n"
          ]
        }
      ]
    },
    {
      "cell_type": "code",
      "source": [
        "fig, ax = plt.subplots(1, 1, figsize=(10, 8))\n",
        "\n",
        "ax.scatter(b_experiments, np.array(f).astype(float) / N**2)"
      ],
      "metadata": {
        "colab": {
          "base_uri": "https://localhost:8080/",
          "height": 694
        },
        "id": "wW-IDCs0qc5y",
        "outputId": "771bc1cb-2ab0-488a-8c86-1e6f3688531c"
      },
      "execution_count": null,
      "outputs": [
        {
          "output_type": "execute_result",
          "data": {
            "text/plain": [
              "<matplotlib.collections.PathCollection at 0x7f65e0a04fa0>"
            ]
          },
          "metadata": {},
          "execution_count": 35
        },
        {
          "output_type": "display_data",
          "data": {
            "text/plain": [
              "<Figure size 1000x800 with 1 Axes>"
            ],
            "image/png": "[encoded data removed]"
          },
          "metadata": {}
        }
      ]
    },
    {
      "cell_type": "code",
      "source": [],
      "metadata": {
        "id": "YB8vSgk-lQSc"
      },
      "execution_count": null,
      "outputs": []
    }
  ]
}